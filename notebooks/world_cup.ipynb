{
 "cells": [
  {
   "cell_type": "markdown",
   "id": "17f026e8",
   "metadata": {
    "jp-MarkdownHeadingCollapsed": true,
    "tags": []
   },
   "source": [
    "<h1 style=\"color:#ffc0cb;font-size:70px;font-family:Georgia;text-align:center;\"><strong>FIFA World Cup Matches</strong></h1>"
   ]
  },
  {
   "cell_type": "markdown",
   "id": "d1ab29ea",
   "metadata": {},
   "source": [
    "<a id=\"1\"></a>\n",
    "<h1 style=\"color:#ffc0cb;font-size:40px;font-family:Georgia;text-align:center;\"><strong>1. Data Preparation</strong></h1>\n",
    "\n",
    "<a id=\"1.1\"></a>\n",
    "# 1.1 Importing Necessary Libraries and datasets"
   ]
  },
  {
   "cell_type": "code",
   "execution_count": 1,
   "id": "9b01f04e",
   "metadata": {
    "pycharm": {
     "name": "#%%\n"
    }
   },
   "outputs": [
    {
     "name": "stdout",
     "output_type": "stream",
     "text": [
      "Requirement already satisfied: missingno in c:\\users\\thu\\anaconda3\\lib\\site-packages (0.5.0)\n",
      "Requirement already satisfied: numpy in c:\\users\\thu\\anaconda3\\lib\\site-packages (from missingno) (1.20.3)\n",
      "Requirement already satisfied: seaborn in c:\\users\\thu\\anaconda3\\lib\\site-packages (from missingno) (0.11.2)\n",
      "Requirement already satisfied: scipy in c:\\users\\thu\\anaconda3\\lib\\site-packages (from missingno) (1.7.1)\n",
      "Requirement already satisfied: matplotlib in c:\\users\\thu\\anaconda3\\lib\\site-packages (from missingno) (3.4.3)\n",
      "Requirement already satisfied: kiwisolver>=1.0.1 in c:\\users\\thu\\anaconda3\\lib\\site-packages (from matplotlib->missingno) (1.3.1)\n",
      "Requirement already satisfied: python-dateutil>=2.7 in c:\\users\\thu\\anaconda3\\lib\\site-packages (from matplotlib->missingno) (2.8.2)\n",
      "Requirement already satisfied: pillow>=6.2.0 in c:\\users\\thu\\anaconda3\\lib\\site-packages (from matplotlib->missingno) (8.4.0)\n",
      "Requirement already satisfied: cycler>=0.10 in c:\\users\\thu\\anaconda3\\lib\\site-packages (from matplotlib->missingno) (0.10.0)\n",
      "Requirement already satisfied: pyparsing>=2.2.1 in c:\\users\\thu\\anaconda3\\lib\\site-packages (from matplotlib->missingno) (3.0.4)\n",
      "Requirement already satisfied: six in c:\\users\\thu\\anaconda3\\lib\\site-packages (from cycler>=0.10->matplotlib->missingno) (1.16.0)\n",
      "Requirement already satisfied: pandas>=0.23 in c:\\users\\thu\\anaconda3\\lib\\site-packages (from seaborn->missingno) (1.3.4)\n",
      "Requirement already satisfied: pytz>=2017.3 in c:\\users\\thu\\anaconda3\\lib\\site-packages (from pandas>=0.23->seaborn->missingno) (2021.3)\n"
     ]
    }
   ],
   "source": [
    "# Install a conda package in the current Jupyter kernel\n",
    "import sys\n",
    "!{sys.executable} -m pip install missingno\n",
    "\n",
    "\n",
    "# work with data in tabular representation\n",
    "from datetime import time\n",
    "import pandas as pd\n",
    "# round the data in the correlation matrix\n",
    "import numpy as np\n",
    "import os\n",
    "\n",
    "\n",
    "# Modules for data visualization\n",
    "import seaborn as sns\n",
    "import missingno as msno\n",
    "\n",
    "# ignore DeprecationWarning Error Messages\n",
    "import warnings\n",
    "warnings.filterwarnings('ignore')"
   ]
  },
  {
   "cell_type": "code",
   "execution_count": 2,
   "id": "db33979b",
   "metadata": {
    "pycharm": {
     "name": "#%%\n"
    }
   },
   "outputs": [
    {
     "name": "stdout",
     "output_type": "stream",
     "text": [
      "Numpy version:  1.20.3\n",
      "Pandas version:  1.3.4\n",
      "Python 3.9.7\n"
     ]
    }
   ],
   "source": [
    "# check the version of the packages\n",
    "print(\"Numpy version: \", np.__version__)\n",
    "print(\"Pandas version: \",pd.__version__)\n",
    "! python --version"
   ]
  },
  {
   "cell_type": "markdown",
   "id": "1a2bec7f",
   "metadata": {},
   "source": [
    "<a id=\"1.2\"></a>\n",
    "# Data Retrieving\n",
    "***\n",
    "In order to load data properly, the data in csv file have to be examined carefully. First of all, all the categories are seperated by the \",\" and strip the extra-whitespaces at the begin by setting \"skipinitialspace = True\"."
   ]
  },
  {
   "cell_type": "code",
   "execution_count": 3,
   "id": "316060cf",
   "metadata": {
    "pycharm": {
     "name": "#%%\n"
    }
   },
   "outputs": [
    {
     "name": "stdout",
     "output_type": "stream",
     "text": [
      "The shape of the MATCHES data is (row, column): (4572, 20)\n"
     ]
    },
    {
     "data": {
      "text/html": [
       "<div>\n",
       "<style scoped>\n",
       "    .dataframe tbody tr th:only-of-type {\n",
       "        vertical-align: middle;\n",
       "    }\n",
       "\n",
       "    .dataframe tbody tr th {\n",
       "        vertical-align: top;\n",
       "    }\n",
       "\n",
       "    .dataframe thead th {\n",
       "        text-align: right;\n",
       "    }\n",
       "</style>\n",
       "<table border=\"1\" class=\"dataframe\">\n",
       "  <thead>\n",
       "    <tr style=\"text-align: right;\">\n",
       "      <th></th>\n",
       "      <th>Year</th>\n",
       "      <th>Datetime</th>\n",
       "      <th>Stage</th>\n",
       "      <th>Stadium</th>\n",
       "      <th>City</th>\n",
       "      <th>Home Team Name</th>\n",
       "      <th>Home Team Goals</th>\n",
       "      <th>Away Team Goals</th>\n",
       "      <th>Away Team Name</th>\n",
       "      <th>Win conditions</th>\n",
       "      <th>Attendance</th>\n",
       "      <th>Half-time Home Goals</th>\n",
       "      <th>Half-time Away Goals</th>\n",
       "      <th>Referee</th>\n",
       "      <th>Assistant 1</th>\n",
       "      <th>Assistant 2</th>\n",
       "      <th>RoundID</th>\n",
       "      <th>MatchID</th>\n",
       "      <th>Home Team Initials</th>\n",
       "      <th>Away Team Initials</th>\n",
       "    </tr>\n",
       "  </thead>\n",
       "  <tbody>\n",
       "    <tr>\n",
       "      <th>0</th>\n",
       "      <td>1930.0</td>\n",
       "      <td>13 Jul 1930 - 15:00</td>\n",
       "      <td>Group 1</td>\n",
       "      <td>Pocitos</td>\n",
       "      <td>Montevideo</td>\n",
       "      <td>France</td>\n",
       "      <td>4.0</td>\n",
       "      <td>1.0</td>\n",
       "      <td>Mexico</td>\n",
       "      <td></td>\n",
       "      <td>4444.0</td>\n",
       "      <td>3.0</td>\n",
       "      <td>0.0</td>\n",
       "      <td>LOMBARDI Domingo (URU)</td>\n",
       "      <td>CRISTOPHE Henry (BEL)</td>\n",
       "      <td>REGO Gilberto (BRA)</td>\n",
       "      <td>201.0</td>\n",
       "      <td>1096.0</td>\n",
       "      <td>FRA</td>\n",
       "      <td>MEX</td>\n",
       "    </tr>\n",
       "    <tr>\n",
       "      <th>1</th>\n",
       "      <td>1930.0</td>\n",
       "      <td>13 Jul 1930 - 15:00</td>\n",
       "      <td>Group 4</td>\n",
       "      <td>Parque Central</td>\n",
       "      <td>Montevideo</td>\n",
       "      <td>USA</td>\n",
       "      <td>3.0</td>\n",
       "      <td>0.0</td>\n",
       "      <td>Belgium</td>\n",
       "      <td></td>\n",
       "      <td>18346.0</td>\n",
       "      <td>2.0</td>\n",
       "      <td>0.0</td>\n",
       "      <td>MACIAS Jose (ARG)</td>\n",
       "      <td>MATEUCCI Francisco (URU)</td>\n",
       "      <td>WARNKEN Alberto (CHI)</td>\n",
       "      <td>201.0</td>\n",
       "      <td>1090.0</td>\n",
       "      <td>USA</td>\n",
       "      <td>BEL</td>\n",
       "    </tr>\n",
       "    <tr>\n",
       "      <th>2</th>\n",
       "      <td>1930.0</td>\n",
       "      <td>14 Jul 1930 - 12:45</td>\n",
       "      <td>Group 2</td>\n",
       "      <td>Parque Central</td>\n",
       "      <td>Montevideo</td>\n",
       "      <td>Yugoslavia</td>\n",
       "      <td>2.0</td>\n",
       "      <td>1.0</td>\n",
       "      <td>Brazil</td>\n",
       "      <td></td>\n",
       "      <td>24059.0</td>\n",
       "      <td>2.0</td>\n",
       "      <td>0.0</td>\n",
       "      <td>TEJADA Anibal (URU)</td>\n",
       "      <td>VALLARINO Ricardo (URU)</td>\n",
       "      <td>BALWAY Thomas (FRA)</td>\n",
       "      <td>201.0</td>\n",
       "      <td>1093.0</td>\n",
       "      <td>YUG</td>\n",
       "      <td>BRA</td>\n",
       "    </tr>\n",
       "  </tbody>\n",
       "</table>\n",
       "</div>"
      ],
      "text/plain": [
       "     Year              Datetime    Stage         Stadium         City  \\\n",
       "0  1930.0  13 Jul 1930 - 15:00   Group 1         Pocitos  Montevideo    \n",
       "1  1930.0  13 Jul 1930 - 15:00   Group 4  Parque Central  Montevideo    \n",
       "2  1930.0  14 Jul 1930 - 12:45   Group 2  Parque Central  Montevideo    \n",
       "\n",
       "  Home Team Name  Home Team Goals  Away Team Goals Away Team Name  \\\n",
       "0         France              4.0              1.0         Mexico   \n",
       "1            USA              3.0              0.0        Belgium   \n",
       "2     Yugoslavia              2.0              1.0         Brazil   \n",
       "\n",
       "  Win conditions  Attendance  Half-time Home Goals  Half-time Away Goals  \\\n",
       "0                     4444.0                   3.0                   0.0   \n",
       "1                    18346.0                   2.0                   0.0   \n",
       "2                    24059.0                   2.0                   0.0   \n",
       "\n",
       "                  Referee               Assistant 1            Assistant 2  \\\n",
       "0  LOMBARDI Domingo (URU)     CRISTOPHE Henry (BEL)    REGO Gilberto (BRA)   \n",
       "1       MACIAS Jose (ARG)  MATEUCCI Francisco (URU)  WARNKEN Alberto (CHI)   \n",
       "2     TEJADA Anibal (URU)   VALLARINO Ricardo (URU)    BALWAY Thomas (FRA)   \n",
       "\n",
       "   RoundID  MatchID Home Team Initials Away Team Initials  \n",
       "0    201.0   1096.0                FRA                MEX  \n",
       "1    201.0   1090.0                USA                BEL  \n",
       "2    201.0   1093.0                YUG                BRA  "
      ]
     },
     "execution_count": 3,
     "metadata": {},
     "output_type": "execute_result"
    }
   ],
   "source": [
    "# set the path of the external data from the third party source - Kaggle\n",
    "external_data_path = os.path.join(os.path.pardir, '', 'data','external')\n",
    "WorldCupMatches = os.path.join(external_data_path, 'WorldCupMatches.csv')\n",
    "\n",
    "# import dataset\n",
    "WorldCupMatches = pd.read_csv(WorldCupMatches, delimiter=',', skipinitialspace = True)\n",
    "\n",
    "print(\"The shape of the MATCHES data is (row, column):\", str(WorldCupMatches.shape))\n",
    "WorldCupMatches.head(3)"
   ]
  },
  {
   "cell_type": "code",
   "execution_count": 4,
   "id": "d25360de-7e4f-4937-bcb5-615434503101",
   "metadata": {},
   "outputs": [
    {
     "name": "stdout",
     "output_type": "stream",
     "text": [
      "The shape of the WHOLE WORLD CUP data is (row, column): (20, 10)\n"
     ]
    },
    {
     "data": {
      "text/html": [
       "<div>\n",
       "<style scoped>\n",
       "    .dataframe tbody tr th:only-of-type {\n",
       "        vertical-align: middle;\n",
       "    }\n",
       "\n",
       "    .dataframe tbody tr th {\n",
       "        vertical-align: top;\n",
       "    }\n",
       "\n",
       "    .dataframe thead th {\n",
       "        text-align: right;\n",
       "    }\n",
       "</style>\n",
       "<table border=\"1\" class=\"dataframe\">\n",
       "  <thead>\n",
       "    <tr style=\"text-align: right;\">\n",
       "      <th></th>\n",
       "      <th>Year</th>\n",
       "      <th>Country</th>\n",
       "      <th>Winner</th>\n",
       "      <th>Runners-Up</th>\n",
       "      <th>Third</th>\n",
       "      <th>Fourth</th>\n",
       "      <th>GoalsScored</th>\n",
       "      <th>QualifiedTeams</th>\n",
       "      <th>MatchesPlayed</th>\n",
       "      <th>Attendance</th>\n",
       "    </tr>\n",
       "  </thead>\n",
       "  <tbody>\n",
       "    <tr>\n",
       "      <th>0</th>\n",
       "      <td>1930</td>\n",
       "      <td>Uruguay</td>\n",
       "      <td>Uruguay</td>\n",
       "      <td>Argentina</td>\n",
       "      <td>USA</td>\n",
       "      <td>Yugoslavia</td>\n",
       "      <td>70</td>\n",
       "      <td>13</td>\n",
       "      <td>18</td>\n",
       "      <td>590.549</td>\n",
       "    </tr>\n",
       "    <tr>\n",
       "      <th>1</th>\n",
       "      <td>1934</td>\n",
       "      <td>Italy</td>\n",
       "      <td>Italy</td>\n",
       "      <td>Czechoslovakia</td>\n",
       "      <td>Germany</td>\n",
       "      <td>Austria</td>\n",
       "      <td>70</td>\n",
       "      <td>16</td>\n",
       "      <td>17</td>\n",
       "      <td>363.000</td>\n",
       "    </tr>\n",
       "    <tr>\n",
       "      <th>2</th>\n",
       "      <td>1938</td>\n",
       "      <td>France</td>\n",
       "      <td>Italy</td>\n",
       "      <td>Hungary</td>\n",
       "      <td>Brazil</td>\n",
       "      <td>Sweden</td>\n",
       "      <td>84</td>\n",
       "      <td>15</td>\n",
       "      <td>18</td>\n",
       "      <td>375.700</td>\n",
       "    </tr>\n",
       "  </tbody>\n",
       "</table>\n",
       "</div>"
      ],
      "text/plain": [
       "   Year  Country   Winner      Runners-Up    Third      Fourth  GoalsScored  \\\n",
       "0  1930  Uruguay  Uruguay       Argentina      USA  Yugoslavia           70   \n",
       "1  1934    Italy    Italy  Czechoslovakia  Germany     Austria           70   \n",
       "2  1938   France    Italy         Hungary   Brazil      Sweden           84   \n",
       "\n",
       "   QualifiedTeams  MatchesPlayed Attendance  \n",
       "0              13             18    590.549  \n",
       "1              16             17    363.000  \n",
       "2              15             18    375.700  "
      ]
     },
     "execution_count": 4,
     "metadata": {},
     "output_type": "execute_result"
    }
   ],
   "source": [
    "# set the path of the external data from the third party source - Kaggle\n",
    "external_data_path = os.path.join(os.path.pardir, '', 'data','external')\n",
    "WorldCups = os.path.join(external_data_path, 'WorldCups.csv')\n",
    "\n",
    "# import dataset\n",
    "WorldCups = pd.read_csv(WorldCups, delimiter=',', skipinitialspace = True)\n",
    "print(\"The shape of the WHOLE WORLD CUP data is (row, column):\", str(WorldCups.shape))\n",
    "WorldCups.head(3)"
   ]
  },
  {
   "cell_type": "markdown",
   "id": "eb731cae",
   "metadata": {},
   "source": [
    "<a id=\"1.3\"></a>\n",
    "# Rename columns\n",
    "***\n",
    "Since these columns are not in SQL naming convention will be more straightforward in later process. We will also analyse the column meaning"
   ]
  },
  {
   "cell_type": "code",
   "execution_count": 5,
   "id": "f03c8ba7-6f89-4ca9-ac55-221fb22b036b",
   "metadata": {},
   "outputs": [
    {
     "name": "stdout",
     "output_type": "stream",
     "text": [
      "The list of WorldCupMatches columns' names is: ['Year', 'Datetime', 'Stage', 'Stadium', 'City', 'Home Team Name', 'Home Team Goals', 'Away Team Goals', 'Away Team Name', 'Win conditions', 'Attendance', 'Half-time Home Goals', 'Half-time Away Goals', 'Referee', 'Assistant 1', 'Assistant 2', 'RoundID', 'MatchID', 'Home Team Initials', 'Away Team Initials']; \n",
      "\n",
      "The list of WorldCups columns' names is: ['Year', 'Country', 'Winner', 'Runners-Up', 'Third', 'Fourth', 'GoalsScored', 'QualifiedTeams', 'MatchesPlayed', 'Attendance']\n",
      "\n",
      "\n",
      "\n"
     ]
    }
   ],
   "source": [
    "print(f'The list of WorldCupMatches columns\\' names is: {WorldCupMatches.columns.to_list()}; \\n\\nThe list of WorldCups columns\\' names is: {WorldCups.columns.to_list()}\\n\\n\\n')"
   ]
  },
  {
   "cell_type": "code",
   "execution_count": 6,
   "id": "7212422f",
   "metadata": {
    "pycharm": {
     "name": "#%%\n"
    }
   },
   "outputs": [],
   "source": [
    "WorldCupMatches.columns = ['year', 'date_time', 'stage', 'stadium', 'city', 'home_team_name',\n",
    "       'home_team_goals', 'away_team_goals', 'away_team_name',\n",
    "       'win_conditions', 'attendance', 'half_time_home_goals',\n",
    "       'half_time_away_goals', 'referee', 'assistant_1', 'assistant_2',\n",
    "       'round_id', 'match_id', 'home_team_code', 'away_team_code']\n",
    "\n",
    "WorldCups.columns = [\"year\",\"country\",\"first\",\"second\",\"third\",\"fourth\",\"goals\",\"nb_teams\",\"nb_matches\",\"attendance\"]"
   ]
  },
  {
   "cell_type": "code",
   "execution_count": 7,
   "id": "3a6aa2c2-8876-4b06-bab6-321cf3f97fa0",
   "metadata": {},
   "outputs": [
    {
     "name": "stdout",
     "output_type": "stream",
     "text": [
      "The list of WorldCupMatches columns' names is: ['year', 'date_time', 'stage', 'stadium', 'city', 'home_team_name', 'home_team_goals', 'away_team_goals', 'away_team_name', 'win_conditions', 'attendance', 'half_time_home_goals', 'half_time_away_goals', 'referee', 'assistant_1', 'assistant_2', 'round_id', 'match_id', 'home_team_code', 'away_team_code']; \n",
      "\n",
      "The list of WorldCups columns' names is: ['year', 'country', 'first', 'second', 'third', 'fourth', 'goals', 'nb_teams', 'nb_matches', 'attendance']\n",
      "\n",
      "\n",
      "\n"
     ]
    }
   ],
   "source": [
    "print(f'The list of WorldCupMatches columns\\' names is: {WorldCupMatches.columns.to_list()}; \\n\\nThe list of WorldCups columns\\' names is: {WorldCups.columns.to_list()}\\n\\n\\n')"
   ]
  },
  {
   "cell_type": "markdown",
   "id": "afa03df8-9a7d-4c03-ae0f-2f4d85f73ea8",
   "metadata": {},
   "source": [
    "# Reposition Columns"
   ]
  },
  {
   "cell_type": "code",
   "execution_count": 8,
   "id": "20ef66d8-5e02-404b-b3c0-c52118a14a5c",
   "metadata": {},
   "outputs": [],
   "source": [
    "WorldCupMatches=WorldCupMatches[[\"year\",\"round_id\",\"match_id\",\"date_time\",\"stage\",\n",
    "                       \"home_team_code\",\"home_team_name\",\"away_team_code\",\"away_team_name\",\n",
    "                       \"stadium\",\"city\",\"attendance\", \"referee\",\"assistant_1\",\"assistant_2\",\n",
    "                       \"half_time_home_goals\",\"half_time_away_goals\", \"home_team_goals\", \"away_team_goals\",\"win_conditions\"\n",
    "                      ]]"
   ]
  },
  {
   "cell_type": "markdown",
   "id": "a8e80589",
   "metadata": {},
   "source": [
    "<a id=\"2\"></a>\n",
    "<h1 style=\"color:#ffc0cb;font-size:40px;font-family:Georgia;text-align:center;\"><strong>2. Data Cleaning</strong></h1>"
   ]
  },
  {
   "cell_type": "markdown",
   "id": "2a23639f",
   "metadata": {},
   "source": [
    "<a id=\"2.2\"></a>\n",
    "# Data types\n",
    "***"
   ]
  },
  {
   "cell_type": "code",
   "execution_count": 9,
   "id": "5a6b9e50-bc69-4b74-87e2-0201518f0b89",
   "metadata": {},
   "outputs": [
    {
     "name": "stdout",
     "output_type": "stream",
     "text": [
      "<class 'pandas.core.frame.DataFrame'>\n",
      "RangeIndex: 4572 entries, 0 to 4571\n",
      "Data columns (total 20 columns):\n",
      " #   Column                Non-Null Count  Dtype  \n",
      "---  ------                --------------  -----  \n",
      " 0   year                  852 non-null    float64\n",
      " 1   round_id              852 non-null    float64\n",
      " 2   match_id              852 non-null    float64\n",
      " 3   date_time             852 non-null    object \n",
      " 4   stage                 852 non-null    object \n",
      " 5   home_team_code        852 non-null    object \n",
      " 6   home_team_name        852 non-null    object \n",
      " 7   away_team_code        852 non-null    object \n",
      " 8   away_team_name        852 non-null    object \n",
      " 9   stadium               852 non-null    object \n",
      " 10  city                  852 non-null    object \n",
      " 11  attendance            850 non-null    float64\n",
      " 12  referee               852 non-null    object \n",
      " 13  assistant_1           852 non-null    object \n",
      " 14  assistant_2           852 non-null    object \n",
      " 15  half_time_home_goals  852 non-null    float64\n",
      " 16  half_time_away_goals  852 non-null    float64\n",
      " 17  home_team_goals       852 non-null    float64\n",
      " 18  away_team_goals       852 non-null    float64\n",
      " 19  win_conditions        852 non-null    object \n",
      "dtypes: float64(8), object(12)\n",
      "memory usage: 714.5+ KB\n",
      "<class 'pandas.core.frame.DataFrame'>\n",
      "RangeIndex: 4572 entries, 0 to 4571\n",
      "Data columns (total 20 columns):\n",
      " #   Column                Non-Null Count  Dtype \n",
      "---  ------                --------------  ----- \n",
      " 0   year                  852 non-null    Int64 \n",
      " 1   round_id              852 non-null    Int64 \n",
      " 2   match_id              852 non-null    Int64 \n",
      " 3   date_time             852 non-null    string\n",
      " 4   stage                 852 non-null    string\n",
      " 5   home_team_code        852 non-null    string\n",
      " 6   home_team_name        852 non-null    string\n",
      " 7   away_team_code        852 non-null    string\n",
      " 8   away_team_name        852 non-null    string\n",
      " 9   stadium               852 non-null    string\n",
      " 10  city                  852 non-null    string\n",
      " 11  attendance            850 non-null    Int64 \n",
      " 12  referee               852 non-null    string\n",
      " 13  assistant_1           852 non-null    string\n",
      " 14  assistant_2           852 non-null    string\n",
      " 15  half_time_home_goals  852 non-null    Int64 \n",
      " 16  half_time_away_goals  852 non-null    Int64 \n",
      " 17  home_team_goals       852 non-null    Int64 \n",
      " 18  away_team_goals       852 non-null    Int64 \n",
      " 19  win_conditions        852 non-null    string\n",
      "dtypes: Int64(8), string(12)\n",
      "memory usage: 750.2 KB\n"
     ]
    }
   ],
   "source": [
    "WorldCupMatches.info()\n",
    "# convert columns to the best possible dtypes, object->string\n",
    "WorldCupMatches = WorldCupMatches.convert_dtypes()\n",
    "WorldCupMatches.info()"
   ]
  },
  {
   "cell_type": "code",
   "execution_count": 10,
   "id": "832cabdf-8058-4832-b7b8-4f1f842f4959",
   "metadata": {},
   "outputs": [
    {
     "name": "stdout",
     "output_type": "stream",
     "text": [
      "<class 'pandas.core.frame.DataFrame'>\n",
      "RangeIndex: 20 entries, 0 to 19\n",
      "Data columns (total 10 columns):\n",
      " #   Column      Non-Null Count  Dtype \n",
      "---  ------      --------------  ----- \n",
      " 0   year        20 non-null     int64 \n",
      " 1   country     20 non-null     object\n",
      " 2   first       20 non-null     object\n",
      " 3   second      20 non-null     object\n",
      " 4   third       20 non-null     object\n",
      " 5   fourth      20 non-null     object\n",
      " 6   goals       20 non-null     int64 \n",
      " 7   nb_teams    20 non-null     int64 \n",
      " 8   nb_matches  20 non-null     int64 \n",
      " 9   attendance  20 non-null     object\n",
      "dtypes: int64(4), object(6)\n",
      "memory usage: 1.7+ KB\n",
      "<class 'pandas.core.frame.DataFrame'>\n",
      "RangeIndex: 20 entries, 0 to 19\n",
      "Data columns (total 10 columns):\n",
      " #   Column      Non-Null Count  Dtype \n",
      "---  ------      --------------  ----- \n",
      " 0   year        20 non-null     Int64 \n",
      " 1   country     20 non-null     string\n",
      " 2   first       20 non-null     string\n",
      " 3   second      20 non-null     string\n",
      " 4   third       20 non-null     string\n",
      " 5   fourth      20 non-null     string\n",
      " 6   goals       20 non-null     Int64 \n",
      " 7   nb_teams    20 non-null     Int64 \n",
      " 8   nb_matches  20 non-null     Int64 \n",
      " 9   attendance  20 non-null     string\n",
      "dtypes: Int64(4), string(6)\n",
      "memory usage: 1.8 KB\n"
     ]
    }
   ],
   "source": [
    "WorldCups.info()\n",
    "# convert columns to the best possible dtypes, object->string\n",
    "WorldCups = WorldCups.convert_dtypes()\n",
    "WorldCups.info()"
   ]
  },
  {
   "cell_type": "markdown",
   "id": "f0e0347c",
   "metadata": {},
   "source": [
    "<a id=\"2.2.1\"></a>\n",
    "# Format date features"
   ]
  },
  {
   "cell_type": "code",
   "execution_count": 11,
   "id": "f2287f4f",
   "metadata": {},
   "outputs": [
    {
     "name": "stdout",
     "output_type": "stream",
     "text": [
      "<class 'pandas.core.frame.DataFrame'>\n",
      "RangeIndex: 4572 entries, 0 to 4571\n",
      "Data columns (total 20 columns):\n",
      " #   Column                Non-Null Count  Dtype         \n",
      "---  ------                --------------  -----         \n",
      " 0   year                  852 non-null    Int64         \n",
      " 1   round_id              852 non-null    Int64         \n",
      " 2   match_id              852 non-null    Int64         \n",
      " 3   date_time             852 non-null    datetime64[ns]\n",
      " 4   stage                 852 non-null    string        \n",
      " 5   home_team_code        852 non-null    string        \n",
      " 6   home_team_name        852 non-null    string        \n",
      " 7   away_team_code        852 non-null    string        \n",
      " 8   away_team_name        852 non-null    string        \n",
      " 9   stadium               852 non-null    string        \n",
      " 10  city                  852 non-null    string        \n",
      " 11  attendance            850 non-null    Int64         \n",
      " 12  referee               852 non-null    string        \n",
      " 13  assistant_1           852 non-null    string        \n",
      " 14  assistant_2           852 non-null    string        \n",
      " 15  half_time_home_goals  852 non-null    Int64         \n",
      " 16  half_time_away_goals  852 non-null    Int64         \n",
      " 17  home_team_goals       852 non-null    Int64         \n",
      " 18  away_team_goals       852 non-null    Int64         \n",
      " 19  win_conditions        852 non-null    string        \n",
      "dtypes: Int64(8), datetime64[ns](1), string(11)\n",
      "memory usage: 750.2 KB\n"
     ]
    }
   ],
   "source": [
    "# Cast date columns to the Date data type\n",
    "WorldCupMatches['date_time'] = pd.to_datetime(WorldCupMatches['date_time'])\n",
    "WorldCupMatches.info()"
   ]
  },
  {
   "cell_type": "markdown",
   "id": "98177938-5785-421f-a9d5-672ce67c38f0",
   "metadata": {},
   "source": [
    "# DROP NA & DUPLICATION\n",
    "\n",
    "+ world_cup dataframe: year is the primary key\n",
    "\n",
    "+ world_cup_match dataframe: year,match_id are the primary key"
   ]
  },
  {
   "cell_type": "code",
   "execution_count": 12,
   "id": "51bf5c42-fa6d-40d2-ac08-403af0f6dd84",
   "metadata": {},
   "outputs": [
    {
     "name": "stdout",
     "output_type": "stream",
     "text": [
      "Number of rows before drop of duplicates in WorldCupMatches: 4572\n",
      "Number of duplicated records in WorldCupMatches:  3735\n",
      "Number of duplicated records AFTER DROP in WorldCupMatches:  0\n",
      "Number of rows after drop of duplicates in WorldCupMatches: 837 \n",
      "\n",
      "\n",
      "Number of rows before drop of duplicates in WorldCups: 20\n",
      "Number of duplicated records in WorldCups:  0\n",
      "Number of rows after drop of duplicates in WorldCups: 20 \n",
      "\n",
      "\n"
     ]
    }
   ],
   "source": [
    "print(\"Number of rows before drop of duplicates in WorldCupMatches:\", len(WorldCupMatches.index))\n",
    "print(\"Number of duplicated records in WorldCupMatches: \", WorldCupMatches.duplicated().sum())\n",
    "WorldCupMatches = WorldCupMatches.drop_duplicates(subset=[\"year\", \"match_id\"], keep=\"first\")\n",
    "print(\"Number of duplicated records AFTER DROP in WorldCupMatches: \", WorldCupMatches.duplicated().sum())\n",
    "print(\"Number of rows after drop of duplicates in WorldCupMatches:\", len(WorldCupMatches.index), \"\\n\\n\")\n",
    "\n",
    "\n",
    "print(\"Number of rows before drop of duplicates in WorldCups:\", len(WorldCups.index))\n",
    "print(\"Number of duplicated records in WorldCups: \", WorldCups.duplicated().sum())\n",
    "WorldCups = WorldCups.drop_duplicates(subset=[\"year\"], keep=\"first\")\n",
    "print(\"Number of rows after drop of duplicates in WorldCups:\", len(WorldCups.index), \"\\n\\n\")"
   ]
  },
  {
   "cell_type": "code",
   "execution_count": 13,
   "id": "7495797e",
   "metadata": {
    "pycharm": {
     "name": "#%%\n"
    }
   },
   "outputs": [
    {
     "name": "stdout",
     "output_type": "stream",
     "text": [
      "The WorldCupMatches dataframe BEFORE dropped has 837 rows and 20 columns\n",
      "The WorldCupMatches dataframe AFTER dropped has 836 rows and 20 columns \n",
      "\n",
      "\n",
      "\n",
      "The WorldCups dataframe BEFORE dropped has 20 rows and 10 columns\n",
      "The WorldCups dataframe AFTER dropped has 20 rows and 10 columns \n",
      "\n",
      "\n",
      "\n"
     ]
    }
   ],
   "source": [
    "print(\"The WorldCupMatches dataframe BEFORE dropped has {} rows and {} columns\".format(WorldCupMatches.shape[0], WorldCupMatches.shape[1]))\n",
    "WorldCupMatches = WorldCupMatches.dropna(subset=[\"year\",\"match_id\"])\n",
    "# display missing values in descending\n",
    "print(\"The WorldCupMatches dataframe AFTER dropped has {} rows and {} columns\".format(WorldCupMatches.shape[0], WorldCupMatches.shape[1]),\"\\n\\n\\n\")\n",
    "\n",
    "\n",
    "# WorldCups\n",
    "print(\"The WorldCups dataframe BEFORE dropped has {} rows and {} columns\".format(WorldCups.shape[0], WorldCups.shape[1]))\n",
    "WorldCups = WorldCups.dropna(subset=[\"year\"])\n",
    "# display missing values in descending\n",
    "print(\"The WorldCups dataframe AFTER dropped has {} rows and {} columns\".format(WorldCups.shape[0], WorldCups.shape[1]),\"\\n\\n\\n\")"
   ]
  },
  {
   "cell_type": "code",
   "execution_count": 14,
   "id": "77035da7-5972-407a-bdc9-72120ec2be26",
   "metadata": {},
   "outputs": [
    {
     "name": "stdout",
     "output_type": "stream",
     "text": [
      "NUMBER OF CATEGORIES: 20; \n",
      "\n",
      "UNIQUE NAMES OF THE CATEGORIES <IntegerArray>\n",
      "[1930, 1934, 1938, 1950, 1954, 1958, 1962, 1966, 1970, 1974, 1978, 1982, 1986,\n",
      " 1990, 1994, 1998, 2002, 2006, 2010, 2014]\n",
      "Length: 20, dtype: Int64\n",
      "\n"
     ]
    }
   ],
   "source": [
    "# print out list of District types\n",
    "print(f'NUMBER OF CATEGORIES: {WorldCupMatches.year.nunique()}; \\n\\nUNIQUE NAMES OF THE CATEGORIES {WorldCupMatches.year.unique()}\\n')"
   ]
  },
  {
   "cell_type": "code",
   "execution_count": 15,
   "id": "3c719e25-79ca-4306-b8e8-1417c97a97c1",
   "metadata": {},
   "outputs": [
    {
     "name": "stdout",
     "output_type": "stream",
     "text": [
      "NUMBER OF CATEGORIES: 43; \n",
      "\n",
      "UNIQUE NAMES OF THE CATEGORIES <StringArray>\n",
      "[                                            ' ',\n",
      "                 'Austria win after extra time ',\n",
      "                   'Italy win after extra time ',\n",
      "                  'Brazil win after extra time ',\n",
      "          'Czechoslovakia win after extra time ',\n",
      "                 'Hungary win after extra time ',\n",
      "        'Northern Ireland win after extra time ',\n",
      "                 'England win after extra time ',\n",
      "              'Germany FR win after extra time ',\n",
      "                 'Uruguay win after extra time ',\n",
      "               'Argentina win after extra time ',\n",
      "                    ' win on penalties (5 - 4) ',\n",
      "                 'Belgium win after extra time ',\n",
      "              'France win on penalties (3 - 4) ',\n",
      "          'Germany FR win on penalties (4 - 1) ',\n",
      "             'Belgium win on penalties (4 - 5) ',\n",
      "                  'France win after extra time ',\n",
      "                'Cameroon win after extra time ',\n",
      " 'Republic of Ireland win on penalties (5 - 4) ',\n",
      "              'Yugoslavia win after extra time ',\n",
      "                    ' win on penalties (2 - 3) ',\n",
      "                    ' win on penalties (3 - 4) ',\n",
      "                    ' win on penalties (4 - 3) ',\n",
      "            'Bulgaria win on penalties (1 - 3) ',\n",
      "              'Sweden win on penalties (4 - 5) ',\n",
      "              'Brazil win on penalties (3 - 2) ',\n",
      "           'Argentina win on penalties (4 - 3) ',\n",
      "              'Brazil win on penalties (4 - 2) ',\n",
      "               'Spain win on penalties (3 - 2) ',\n",
      "                           'Win on Golden Goal ',\n",
      "      'Korea Republic win on penalties (3 - 5) ',\n",
      "             'Ukraine win on penalties (0 - 3) ',\n",
      "             'Germany win on penalties (4 - 2) ',\n",
      "            'Portugal win on penalties (1 - 3) ',\n",
      "               'Italy win on penalties (5 - 3) ',\n",
      "                   'Ghana win after extra time ',\n",
      "            'Paraguay win on penalties (5 - 3) ',\n",
      "             'Uruguay win on penalties (4 - 2) ',\n",
      "                   'Spain win after extra time ',\n",
      "                 'Germany win after extra time ',\n",
      "           'Argentina win on penalties (2 - 4) ',\n",
      "         'Netherlands win on penalties (4 - 3) ',\n",
      "          'Costa Rica win on penalties (5 - 3) ']\n",
      "Length: 43, dtype: string\n",
      "\n"
     ]
    }
   ],
   "source": [
    "# print out list of District types\n",
    "print(f'NUMBER OF CATEGORIES: {WorldCupMatches.win_conditions.nunique()}; \\n\\nUNIQUE NAMES OF THE CATEGORIES {WorldCupMatches.win_conditions.unique()}\\n')"
   ]
  },
  {
   "cell_type": "markdown",
   "id": "7679ee5b-e513-4540-8630-e571220bc6c9",
   "metadata": {},
   "source": [
    "# Extract win_conditions column into multiple columns to show home team or away team wins\n",
    "\n",
    "+ when_win_conditions: fulltime, extratime, penalty. \n",
    "+ penalty: Penalty Goals of Home Team and Away Team\n",
    "+ penalty_home: penalty goals for home team\n",
    "+ penalty_"
   ]
  },
  {
   "cell_type": "code",
   "execution_count": 16,
   "id": "a766a0a8-1256-4498-97d9-b7a33862a87e",
   "metadata": {},
   "outputs": [],
   "source": [
    "import re\n",
    "exp = re.compile(r'\\((.*?)\\)')\n",
    "h_exp = re.compile(r'(^[^-]*[^ -])')\n",
    "a_exp = re.compile(r'([^ -][^-]*$)')\n",
    "WorldCupMatches[['penalty']] = WorldCupMatches['win_conditions'].str.extract(exp, expand=True)\n",
    "WorldCupMatches[['penalty_home']] = WorldCupMatches['penalty'].str.extract(h_exp, expand=True) # matches everything before \" - \" not including space\n",
    "WorldCupMatches[['penalty_away']] = WorldCupMatches['penalty'].str.extract(a_exp, expand=True) # matches everything after \" - \" not including space"
   ]
  },
  {
   "cell_type": "code",
   "execution_count": 17,
   "id": "2e3f6f38-bc6a-4daf-8af7-60244a730035",
   "metadata": {},
   "outputs": [],
   "source": [
    "when_win_conditions = \"fulltime|extratime|penalty\"\n",
    "WorldCupMatches['when_win_conditions'] = WorldCupMatches.win_conditions.str.extract('('+when_win_conditions+')', expand=False)\n",
    "\n",
    "WorldCupMatches.loc[WorldCupMatches['win_conditions'].str.contains(\"extra time\"), 'when_win_conditions'] = 'extratime'\n",
    "WorldCupMatches.loc[WorldCupMatches['win_conditions'].str.contains(\"penalties\"), 'when_win_conditions'] = 'penalty'\n",
    "\n",
    "WorldCupMatches['when_win_conditions'] = WorldCupMatches['when_win_conditions'].fillna('fulltime')"
   ]
  },
  {
   "cell_type": "code",
   "execution_count": 18,
   "id": "e7fc02db-9fdb-400a-b8c6-f122bcdf3dba",
   "metadata": {},
   "outputs": [
    {
     "name": "stdout",
     "output_type": "stream",
     "text": [
      "NUMBER OF CATEGORIES: 3; \n",
      "\n",
      "UNIQUE NAMES OF THE CATEGORIES <StringArray>\n",
      "['fulltime', 'extratime', 'penalty']\n",
      "Length: 3, dtype: string\n",
      "\n"
     ]
    }
   ],
   "source": [
    "# print out list of District types\n",
    "print(f'NUMBER OF CATEGORIES: {WorldCupMatches.when_win_conditions.nunique()}; \\n\\nUNIQUE NAMES OF THE CATEGORIES {WorldCupMatches.when_win_conditions.unique()}\\n')"
   ]
  },
  {
   "cell_type": "markdown",
   "id": "dc66f686-ec66-4342-843c-c276f5bdadde",
   "metadata": {},
   "source": [
    "# Drop unecessary columns"
   ]
  },
  {
   "cell_type": "code",
   "execution_count": 19,
   "id": "79e057f4-eded-4f67-a94a-3bdce470b1a7",
   "metadata": {},
   "outputs": [],
   "source": [
    "WorldCupMatches = WorldCupMatches.drop(['win_conditions', 'penalty'], axis=1)"
   ]
  },
  {
   "cell_type": "markdown",
   "id": "05b3c603-b6df-4344-b642-ce4de5922eb7",
   "metadata": {},
   "source": [
    "# Lower Case the content\n",
    "\n",
    "In this section we will convert all the string value in the column to uppercase for further processing and keep all the string uniformly format. This will improve the analysis of the data, and also easier to perform any function related to the string."
   ]
  },
  {
   "cell_type": "markdown",
   "id": "1deed232-d9c8-43f4-8ab1-652bf8b25be9",
   "metadata": {},
   "source": [
    "# Final dataframes"
   ]
  },
  {
   "cell_type": "code",
   "execution_count": 20,
   "id": "d2ff6895-9625-4c92-930d-e747b4865006",
   "metadata": {},
   "outputs": [
    {
     "data": {
      "text/html": [
       "<div>\n",
       "<style scoped>\n",
       "    .dataframe tbody tr th:only-of-type {\n",
       "        vertical-align: middle;\n",
       "    }\n",
       "\n",
       "    .dataframe tbody tr th {\n",
       "        vertical-align: top;\n",
       "    }\n",
       "\n",
       "    .dataframe thead th {\n",
       "        text-align: right;\n",
       "    }\n",
       "</style>\n",
       "<table border=\"1\" class=\"dataframe\">\n",
       "  <thead>\n",
       "    <tr style=\"text-align: right;\">\n",
       "      <th></th>\n",
       "      <th>year</th>\n",
       "      <th>round_id</th>\n",
       "      <th>match_id</th>\n",
       "      <th>date_time</th>\n",
       "      <th>stage</th>\n",
       "      <th>home_team_code</th>\n",
       "      <th>home_team_name</th>\n",
       "      <th>away_team_code</th>\n",
       "      <th>away_team_name</th>\n",
       "      <th>stadium</th>\n",
       "      <th>...</th>\n",
       "      <th>referee</th>\n",
       "      <th>assistant_1</th>\n",
       "      <th>assistant_2</th>\n",
       "      <th>half_time_home_goals</th>\n",
       "      <th>half_time_away_goals</th>\n",
       "      <th>home_team_goals</th>\n",
       "      <th>away_team_goals</th>\n",
       "      <th>penalty_home</th>\n",
       "      <th>penalty_away</th>\n",
       "      <th>when_win_conditions</th>\n",
       "    </tr>\n",
       "  </thead>\n",
       "  <tbody>\n",
       "    <tr>\n",
       "      <th>833</th>\n",
       "      <td>2014</td>\n",
       "      <td>255951</td>\n",
       "      <td>300186459</td>\n",
       "      <td>2014-06-29 17:00:00</td>\n",
       "      <td>Round of 16</td>\n",
       "      <td>CRC</td>\n",
       "      <td>Costa Rica</td>\n",
       "      <td>GRE</td>\n",
       "      <td>Greece</td>\n",
       "      <td>Arena Pernambuco</td>\n",
       "      <td>...</td>\n",
       "      <td>Ben WILLIAMS (AUS)</td>\n",
       "      <td>CREAM Matthew (AUS)</td>\n",
       "      <td>ANAZ Hakan (AUS)</td>\n",
       "      <td>0</td>\n",
       "      <td>0</td>\n",
       "      <td>1</td>\n",
       "      <td>1</td>\n",
       "      <td>5</td>\n",
       "      <td>3</td>\n",
       "      <td>penalty</td>\n",
       "    </tr>\n",
       "    <tr>\n",
       "      <th>834</th>\n",
       "      <td>2014</td>\n",
       "      <td>255951</td>\n",
       "      <td>300186503</td>\n",
       "      <td>2014-07-01 13:00:00</td>\n",
       "      <td>Round of 16</td>\n",
       "      <td>ARG</td>\n",
       "      <td>Argentina</td>\n",
       "      <td>SUI</td>\n",
       "      <td>Switzerland</td>\n",
       "      <td>Arena de Sao Paulo</td>\n",
       "      <td>...</td>\n",
       "      <td>ERIKSSON Jonas (SWE)</td>\n",
       "      <td>KLASENIUS Mathias (SWE)</td>\n",
       "      <td>WARNMARK Daniel (SWE)</td>\n",
       "      <td>0</td>\n",
       "      <td>0</td>\n",
       "      <td>1</td>\n",
       "      <td>0</td>\n",
       "      <td>&lt;NA&gt;</td>\n",
       "      <td>&lt;NA&gt;</td>\n",
       "      <td>extratime</td>\n",
       "    </tr>\n",
       "    <tr>\n",
       "      <th>835</th>\n",
       "      <td>2014</td>\n",
       "      <td>255951</td>\n",
       "      <td>300186497</td>\n",
       "      <td>2014-07-01 17:00:00</td>\n",
       "      <td>Round of 16</td>\n",
       "      <td>BEL</td>\n",
       "      <td>Belgium</td>\n",
       "      <td>USA</td>\n",
       "      <td>USA</td>\n",
       "      <td>Arena Fonte Nova</td>\n",
       "      <td>...</td>\n",
       "      <td>HAIMOUDI Djamel (ALG)</td>\n",
       "      <td>ACHIK Redouane (MAR)</td>\n",
       "      <td>ETCHIALI Abdelhak (ALG)</td>\n",
       "      <td>0</td>\n",
       "      <td>0</td>\n",
       "      <td>2</td>\n",
       "      <td>1</td>\n",
       "      <td>&lt;NA&gt;</td>\n",
       "      <td>&lt;NA&gt;</td>\n",
       "      <td>extratime</td>\n",
       "    </tr>\n",
       "  </tbody>\n",
       "</table>\n",
       "<p>3 rows × 22 columns</p>\n",
       "</div>"
      ],
      "text/plain": [
       "     year  round_id   match_id           date_time        stage  \\\n",
       "833  2014    255951  300186459 2014-06-29 17:00:00  Round of 16   \n",
       "834  2014    255951  300186503 2014-07-01 13:00:00  Round of 16   \n",
       "835  2014    255951  300186497 2014-07-01 17:00:00  Round of 16   \n",
       "\n",
       "    home_team_code home_team_name away_team_code away_team_name  \\\n",
       "833            CRC     Costa Rica            GRE         Greece   \n",
       "834            ARG      Argentina            SUI    Switzerland   \n",
       "835            BEL        Belgium            USA            USA   \n",
       "\n",
       "                stadium  ...                referee              assistant_1  \\\n",
       "833    Arena Pernambuco  ...     Ben WILLIAMS (AUS)      CREAM Matthew (AUS)   \n",
       "834  Arena de Sao Paulo  ...   ERIKSSON Jonas (SWE)  KLASENIUS Mathias (SWE)   \n",
       "835    Arena Fonte Nova  ...  HAIMOUDI Djamel (ALG)     ACHIK Redouane (MAR)   \n",
       "\n",
       "                 assistant_2 half_time_home_goals half_time_away_goals  \\\n",
       "833         ANAZ Hakan (AUS)                    0                    0   \n",
       "834    WARNMARK Daniel (SWE)                    0                    0   \n",
       "835  ETCHIALI Abdelhak (ALG)                    0                    0   \n",
       "\n",
       "     home_team_goals  away_team_goals  penalty_home  penalty_away  \\\n",
       "833                1                1             5             3   \n",
       "834                1                0          <NA>          <NA>   \n",
       "835                2                1          <NA>          <NA>   \n",
       "\n",
       "    when_win_conditions  \n",
       "833             penalty  \n",
       "834           extratime  \n",
       "835           extratime  \n",
       "\n",
       "[3 rows x 22 columns]"
      ]
     },
     "execution_count": 20,
     "metadata": {},
     "output_type": "execute_result"
    }
   ],
   "source": [
    "WorldCupMatches.tail(3)"
   ]
  },
  {
   "cell_type": "code",
   "execution_count": 21,
   "id": "cdf12c79-12f4-4780-ace8-d7c7d886c6f1",
   "metadata": {},
   "outputs": [
    {
     "data": {
      "text/html": [
       "<div>\n",
       "<style scoped>\n",
       "    .dataframe tbody tr th:only-of-type {\n",
       "        vertical-align: middle;\n",
       "    }\n",
       "\n",
       "    .dataframe tbody tr th {\n",
       "        vertical-align: top;\n",
       "    }\n",
       "\n",
       "    .dataframe thead th {\n",
       "        text-align: right;\n",
       "    }\n",
       "</style>\n",
       "<table border=\"1\" class=\"dataframe\">\n",
       "  <thead>\n",
       "    <tr style=\"text-align: right;\">\n",
       "      <th></th>\n",
       "      <th>year</th>\n",
       "      <th>country</th>\n",
       "      <th>first</th>\n",
       "      <th>second</th>\n",
       "      <th>third</th>\n",
       "      <th>fourth</th>\n",
       "      <th>goals</th>\n",
       "      <th>nb_teams</th>\n",
       "      <th>nb_matches</th>\n",
       "      <th>attendance</th>\n",
       "    </tr>\n",
       "  </thead>\n",
       "  <tbody>\n",
       "    <tr>\n",
       "      <th>17</th>\n",
       "      <td>2006</td>\n",
       "      <td>Germany</td>\n",
       "      <td>Italy</td>\n",
       "      <td>France</td>\n",
       "      <td>Germany</td>\n",
       "      <td>Portugal</td>\n",
       "      <td>147</td>\n",
       "      <td>32</td>\n",
       "      <td>64</td>\n",
       "      <td>3.359.439</td>\n",
       "    </tr>\n",
       "    <tr>\n",
       "      <th>18</th>\n",
       "      <td>2010</td>\n",
       "      <td>South Africa</td>\n",
       "      <td>Spain</td>\n",
       "      <td>Netherlands</td>\n",
       "      <td>Germany</td>\n",
       "      <td>Uruguay</td>\n",
       "      <td>145</td>\n",
       "      <td>32</td>\n",
       "      <td>64</td>\n",
       "      <td>3.178.856</td>\n",
       "    </tr>\n",
       "    <tr>\n",
       "      <th>19</th>\n",
       "      <td>2014</td>\n",
       "      <td>Brazil</td>\n",
       "      <td>Germany</td>\n",
       "      <td>Argentina</td>\n",
       "      <td>Netherlands</td>\n",
       "      <td>Brazil</td>\n",
       "      <td>171</td>\n",
       "      <td>32</td>\n",
       "      <td>64</td>\n",
       "      <td>3.386.810</td>\n",
       "    </tr>\n",
       "  </tbody>\n",
       "</table>\n",
       "</div>"
      ],
      "text/plain": [
       "    year       country    first       second        third    fourth  goals  \\\n",
       "17  2006       Germany    Italy       France      Germany  Portugal    147   \n",
       "18  2010  South Africa    Spain  Netherlands      Germany   Uruguay    145   \n",
       "19  2014        Brazil  Germany    Argentina  Netherlands    Brazil    171   \n",
       "\n",
       "    nb_teams  nb_matches attendance  \n",
       "17        32          64  3.359.439  \n",
       "18        32          64  3.178.856  \n",
       "19        32          64  3.386.810  "
      ]
     },
     "execution_count": 21,
     "metadata": {},
     "output_type": "execute_result"
    }
   ],
   "source": [
    "WorldCups.tail(3)"
   ]
  },
  {
   "cell_type": "code",
   "execution_count": 22,
   "id": "813bb631-ab5b-4232-a43f-4225b9597f13",
   "metadata": {},
   "outputs": [],
   "source": [
    "# Cast all values inside the dataframe (except the columns' name) into upper case.\n",
    "WorldCups = WorldCups.applymap(lambda s: s.upper() if type(s) == str else s)\n",
    "WorldCups = WorldCups.applymap(lambda s: s.upper() if type(s) == str else s)\n"
   ]
  },
  {
   "cell_type": "markdown",
   "id": "206a5145-c651-4f52-9497-4d004ed3353f",
   "metadata": {},
   "source": [
    "<a id=\"3\"></a>\n",
    "<h1 style=\"color:#ffc0cb;font-size:40px;font-family:Georgia;text-align:center;\"><strong>3. Save the Intermediate data that has been transformed</strong></h1>"
   ]
  },
  {
   "cell_type": "code",
   "execution_count": 23,
   "id": "119501bf-a153-4b56-8a51-47731f38da69",
   "metadata": {},
   "outputs": [
    {
     "name": "stdout",
     "output_type": "stream",
     "text": [
      "cleaned WorldCupMatches data was successfully saved!\n"
     ]
    }
   ],
   "source": [
    "# set the path of the cleaned data to data \n",
    "interim_data_path = os.path.join(os.path.pardir,'data','interim')\n",
    "write_interim_path = os.path.join(interim_data_path, 'world_cup_matches.csv')\n",
    "# To write the data from the data frame into a file, use the to_csv function.\n",
    "WorldCupMatches.to_csv(write_interim_path, index=False)\n",
    "# df.to_csv('Dash/cleaned_data.csv', index=False)\n",
    "print(\"cleaned WorldCupMatches data was successfully saved!\")"
   ]
  },
  {
   "cell_type": "code",
   "execution_count": 24,
   "id": "29cb89b3-2d54-4a03-874b-4784333115ac",
   "metadata": {},
   "outputs": [
    {
     "name": "stdout",
     "output_type": "stream",
     "text": [
      "cleaned WorldCups data was successfully saved!\n"
     ]
    }
   ],
   "source": [
    "# set the path of the cleaned data to data \n",
    "write_interim_path = os.path.join(interim_data_path, 'world_cups.csv')\n",
    "# To write the data from the data frame into a file, use the to_csv function.\n",
    "WorldCups.to_csv(write_interim_path, index=False)\n",
    "print(\"cleaned WorldCups data was successfully saved!\")"
   ]
  }
 ],
 "metadata": {
  "kernelspec": {
   "display_name": "Python 3 (ipykernel)",
   "language": "python",
   "name": "python3"
  },
  "language_info": {
   "codemirror_mode": {
    "name": "ipython",
    "version": 3
   },
   "file_extension": ".py",
   "mimetype": "text/x-python",
   "name": "python",
   "nbconvert_exporter": "python",
   "pygments_lexer": "ipython3",
   "version": "3.9.7"
  }
 },
 "nbformat": 4,
 "nbformat_minor": 5
}
